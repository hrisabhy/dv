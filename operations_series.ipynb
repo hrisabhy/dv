{
 "cells": [
  {
   "cell_type": "markdown",
   "metadata": {},
   "source": [
    "Creation of series"
   ]
  },
  {
   "cell_type": "code",
   "execution_count": 1,
   "metadata": {},
   "outputs": [
    {
     "name": "stdout",
     "output_type": "stream",
     "text": [
      "0    10\n",
      "1    20\n",
      "2    30\n",
      "dtype: int64\n"
     ]
    }
   ],
   "source": [
    "#from scalar values\n",
    "import pandas as pd\n",
    "s1=pd.Series([10,20,30])\n",
    "print(s1)"
   ]
  },
  {
   "cell_type": "code",
   "execution_count": 2,
   "metadata": {},
   "outputs": [
    {
     "name": "stdout",
     "output_type": "stream",
     "text": [
      "First     10\n",
      "Second    20\n",
      "Third     30\n",
      "dtype: int64\n"
     ]
    }
   ],
   "source": [
    "#initializing with index\n",
    "import pandas as pd\n",
    "s2=pd.Series([10,20,30],index=[\"First\",\"Second\",\"Third\"])\n",
    "print(s2)"
   ]
  },
  {
   "cell_type": "code",
   "execution_count": 3,
   "metadata": {},
   "outputs": [
    {
     "name": "stdout",
     "output_type": "stream",
     "text": [
      "0    10\n",
      "1    20\n",
      "2    30\n",
      "dtype: int32\n"
     ]
    }
   ],
   "source": [
    "#using numpy array\n",
    "import numpy as np\n",
    "import pandas as pd\n",
    "a1=np.array([10,20,30])\n",
    "print(pd.Series(a1))\n"
   ]
  },
  {
   "cell_type": "code",
   "execution_count": 4,
   "metadata": {},
   "outputs": [
    {
     "name": "stdout",
     "output_type": "stream",
     "text": [
      "Parag         Food\n",
      "Sushant    Shrooms\n",
      "Hrisabh      Drugs\n",
      "dtype: object\n"
     ]
    }
   ],
   "source": [
    "#using dictionary\n",
    "import pandas as pd\n",
    "dict1={\"Parag\":\"Food\",\"Sushant\":\"Shrooms\",\"Hrisabh\":\"Drugs\"}\n",
    "print(pd.Series(dict1))"
   ]
  },
  {
   "cell_type": "markdown",
   "metadata": {},
   "source": [
    "Manipulation of series"
   ]
  },
  {
   "cell_type": "code",
   "execution_count": 5,
   "metadata": {},
   "outputs": [
    {
     "name": "stdout",
     "output_type": "stream",
     "text": [
      "Item at index  0 : 10\n",
      "Item at index  1 : 20\n",
      "Item at index  2 : 30\n"
     ]
    }
   ],
   "source": [
    "#indexing\n",
    "import pandas as pd\n",
    "s1=pd.Series([10,20,30])\n",
    "for i in range(0,3):\n",
    "    print(\"Item at index \",i,\":\",s1[i])"
   ]
  },
  {
   "cell_type": "code",
   "execution_count": 6,
   "metadata": {},
   "outputs": [
    {
     "name": "stdout",
     "output_type": "stream",
     "text": [
      "0    10\n",
      "1    20\n",
      "2    30\n",
      "3    40\n",
      "dtype: int64\n"
     ]
    }
   ],
   "source": [
    "#slicing\n",
    "import pandas as pd\n",
    "s2=pd.Series([10,20,30,40,50,60,70])\n",
    "print(s2[0:4])"
   ]
  },
  {
   "cell_type": "code",
   "execution_count": 20,
   "metadata": {},
   "outputs": [
    {
     "name": "stdout",
     "output_type": "stream",
     "text": [
      "0    10\n",
      "1    12\n",
      "2    14\n",
      "3    16\n",
      "4    18\n",
      "dtype: int32\n"
     ]
    }
   ],
   "source": [
    "#generating arrays using arrage(start,end,step)\n",
    "import pandas as pd\n",
    "import numpy as np\n",
    "print(pd.Series(np.arange(10,20,2)))\n"
   ]
  },
  {
   "cell_type": "code",
   "execution_count": null,
   "metadata": {},
   "outputs": [],
   "source": [
    "#mathematical operations on series\n",
    "import pandas as pd\n",
    "import numpy as np\n",
    "s1=pd.Series(np.arange(10,30,2))\n",
    "s2=pd.Series(np.arange(20,40,2))\n",
    "print(s1+s2)\n",
    "print(s1*s2)\n",
    "print(s1/s2)\n"
   ]
  }
 ],
 "metadata": {
  "kernelspec": {
   "display_name": "Python 3.9.13 64-bit (microsoft store)",
   "language": "python",
   "name": "python3"
  },
  "language_info": {
   "codemirror_mode": {
    "name": "ipython",
    "version": 3
   },
   "file_extension": ".py",
   "mimetype": "text/x-python",
   "name": "python",
   "nbconvert_exporter": "python",
   "pygments_lexer": "ipython3",
   "version": "3.9.13"
  },
  "orig_nbformat": 4,
  "vscode": {
   "interpreter": {
    "hash": "388ef3fb370c5b34be06681a358b1419cdc82b3d54b6b412b0d7c048704b5489"
   }
  }
 },
 "nbformat": 4,
 "nbformat_minor": 2
}

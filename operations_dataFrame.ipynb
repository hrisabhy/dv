{
 "cells": [
  {
   "cell_type": "code",
   "execution_count": 2,
   "metadata": {},
   "outputs": [
    {
     "name": "stdout",
     "output_type": "stream",
     "text": [
      "     0    1    2\n",
      "0   10   20   30\n",
      "1   40   60   50\n",
      "2  100  220  310\n"
     ]
    }
   ],
   "source": [
    "#creation of dataframe using numpy arrays\n",
    "import numpy as np\n",
    "import pandas as pd\n",
    "a1=np.array([10,20,30])\n",
    "a2=np.array([40,60,50])\n",
    "a3=np.array([100,220,310])\n",
    "d1=pd.DataFrame([a1,a2,a3],columns=[\"0\",\"1\",\"2\"])\n",
    "print(d1)"
   ]
  },
  {
   "cell_type": "code",
   "execution_count": 3,
   "metadata": {},
   "outputs": [
    {
     "name": "stdout",
     "output_type": "stream",
     "text": [
      "   hrisabh  parag  sushant\n",
      "0      432     32       43\n",
      "1      324    435      565\n"
     ]
    }
   ],
   "source": [
    "#creation of dataframe using list of dictionary\n",
    "import pandas as pd\n",
    "listDict=[{\"hrisabh\":432,\"parag\":32,\"sushant\":43},{\"hrisabh\":324,\"parag\":435,\"sushant\":565}]\n",
    "d1=pd.DataFrame(listDict)\n",
    "print(d1)"
   ]
  },
  {
   "cell_type": "code",
   "execution_count": 8,
   "metadata": {},
   "outputs": [
    {
     "name": "stdout",
     "output_type": "stream",
     "text": [
      "      a    b    c\n",
      "0    12  343  543\n",
      "1  5656  434  344\n"
     ]
    }
   ],
   "source": [
    "#creation of dataframe using series\n",
    "import pandas as pd\n",
    "s1=pd.Series([12,343,543], index=[\"a\",\"b\",\"c\"])\n",
    "s2=pd.Series([5656,434,344],index=[\"a\",\"b\",\"c\"])\n",
    "d1=pd.DataFrame([s1,s2])\n",
    "print(d1)"
   ]
  },
  {
   "cell_type": "code",
   "execution_count": null,
   "metadata": {},
   "outputs": [],
   "source": [
    "#creation of dataframe using dictionary of series\n",
    "dictTEmp={\"English\":pd.Series([19,29,39],index=[''])}"
   ]
  }
 ],
 "metadata": {
  "kernelspec": {
   "display_name": "Python 3.9.13 64-bit (microsoft store)",
   "language": "python",
   "name": "python3"
  },
  "language_info": {
   "codemirror_mode": {
    "name": "ipython",
    "version": 3
   },
   "file_extension": ".py",
   "mimetype": "text/x-python",
   "name": "python",
   "nbconvert_exporter": "python",
   "pygments_lexer": "ipython3",
   "version": "3.9.13"
  },
  "orig_nbformat": 4,
  "vscode": {
   "interpreter": {
    "hash": "388ef3fb370c5b34be06681a358b1419cdc82b3d54b6b412b0d7c048704b5489"
   }
  }
 },
 "nbformat": 4,
 "nbformat_minor": 2
}
